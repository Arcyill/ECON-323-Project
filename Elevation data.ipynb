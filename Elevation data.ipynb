{
 "cells": [
  {
   "cell_type": "code",
   "execution_count": 2,
   "metadata": {},
   "outputs": [],
   "source": [
    "import numpy as np\n",
    "import requests\n",
    "import time\n",
    "import matplotlib.pyplot as plt\n",
    "import os"
   ]
  },
  {
   "cell_type": "code",
   "execution_count": 4,
   "metadata": {},
   "outputs": [
    {
     "name": "stdout",
     "output_type": "stream",
     "text": [
      "✅ GeoTIFF saved as yokohama_elevation_corrected.tif\n"
     ]
    }
   ],
   "source": [
    "\n",
    "API_KEY = \"3b82a854d3dbaf91be1660a1e519f4c255dd7c51\"\n",
    "\n",
    "lat_min, lon_min = 35.3, 139.45 \n",
    "lat_max, lon_max = 35.6, 139.75 \n",
    "\n",
    "\n",
    "url = (\n",
    "    f\"https://tessadem.com/api/elevation?\"\n",
    "    f\"key={API_KEY}&mode=area&rows=128&columns=128&\"\n",
    "    f\"locations={lat_min},{lon_min}|{lat_max},{lon_max}&format=geotiff\"\n",
    ")\n",
    "\n",
    "\n",
    "response = requests.get(url)\n",
    "\n",
    "\n",
    "if response.status_code == 200:\n",
    "    with open(\"yokohama_elevation_corrected.tif\", \"wb\") as f:\n",
    "        f.write(response.content)\n",
    "    print(\"✅ GeoTIFF saved as yokohama_elevation_corrected.tif\")\n",
    "else:\n",
    "    print(\"Error:\", response.status_code, response.text)\n"
   ]
  },
  {
   "cell_type": "code",
   "execution_count": null,
   "metadata": {},
   "outputs": [],
   "source": [
    "\n"
   ]
  },
  {
   "cell_type": "code",
   "execution_count": null,
   "metadata": {},
   "outputs": [],
   "source": []
  }
 ],
 "metadata": {
  "kernelspec": {
   "display_name": "base",
   "language": "python",
   "name": "python3"
  },
  "language_info": {
   "codemirror_mode": {
    "name": "ipython",
    "version": 3
   },
   "file_extension": ".py",
   "mimetype": "text/x-python",
   "name": "python",
   "nbconvert_exporter": "python",
   "pygments_lexer": "ipython3",
   "version": "3.12.9"
  }
 },
 "nbformat": 4,
 "nbformat_minor": 2
}
